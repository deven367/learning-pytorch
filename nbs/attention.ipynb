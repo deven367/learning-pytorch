{
 "cells": [
  {
   "cell_type": "markdown",
   "id": "ae76fac1",
   "metadata": {},
   "source": [
    "# attention"
   ]
  },
  {
   "cell_type": "code",
   "execution_count": null,
   "id": "aeecc11d",
   "metadata": {},
   "outputs": [],
   "source": [
    "import torch\n",
    "import torch.nn as nn\n",
    "import torch.nn.functional as F"
   ]
  },
  {
   "cell_type": "code",
   "execution_count": null,
   "id": "0b82b15a",
   "metadata": {},
   "outputs": [],
   "source": [
    "sentence = \"life is short eat dessert first\""
   ]
  },
  {
   "cell_type": "code",
   "execution_count": null,
   "id": "ec7fbbab",
   "metadata": {},
   "outputs": [],
   "source": [
    "d = {v:k for k, v in enumerate(sorted(sentence.split()))}"
   ]
  },
  {
   "cell_type": "code",
   "execution_count": null,
   "id": "1b240634",
   "metadata": {},
   "outputs": [
    {
     "data": {
      "text/plain": [
       "{'dessert': 0, 'eat': 1, 'first': 2, 'is': 3, 'life': 4, 'short': 5}"
      ]
     },
     "execution_count": null,
     "metadata": {},
     "output_type": "execute_result"
    }
   ],
   "source": [
    "d"
   ]
  },
  {
   "cell_type": "code",
   "execution_count": null,
   "id": "b079cab9",
   "metadata": {},
   "outputs": [],
   "source": [
    "sentence_int = torch.tensor([d[s] for s in sentence.split()])"
   ]
  },
  {
   "cell_type": "code",
   "execution_count": null,
   "id": "08e9ca3d",
   "metadata": {},
   "outputs": [
    {
     "data": {
      "text/plain": [
       "tensor([4, 3, 5, 1, 0, 2])"
      ]
     },
     "execution_count": null,
     "metadata": {},
     "output_type": "execute_result"
    }
   ],
   "source": [
    "sentence_int"
   ]
  },
  {
   "cell_type": "markdown",
   "id": "9b66c22f",
   "metadata": {},
   "source": [
    "## embedding"
   ]
  },
  {
   "cell_type": "code",
   "execution_count": null,
   "id": "f5591605",
   "metadata": {},
   "outputs": [],
   "source": [
    "torch.manual_seed(367)\n",
    "embed = nn.Embedding(6, 16)"
   ]
  },
  {
   "cell_type": "code",
   "execution_count": null,
   "id": "88df0292",
   "metadata": {},
   "outputs": [
    {
     "data": {
      "text/plain": [
       "Parameter containing:\n",
       "tensor([[-0.6464,  0.1896, -0.1400, -0.5293,  2.2280, -0.5509,  0.8565,  0.6965,\n",
       "          0.2921,  0.7246, -0.2228,  0.1755,  0.3178, -0.8774,  1.1153, -0.8318],\n",
       "        [ 0.3682,  0.0866,  0.4898, -0.6596,  0.5912, -1.3599,  0.2875, -0.3362,\n",
       "          0.0528,  0.5361, -0.6639, -0.0485, -0.1884, -1.0605,  0.7885,  0.8130],\n",
       "        [-1.1571, -0.4416, -0.2310, -0.3186,  0.7454, -0.5900, -0.2848,  0.8694,\n",
       "         -0.3333, -2.3269, -2.6385, -1.5790,  0.3806,  0.3829, -0.6320, -1.1084],\n",
       "        [-0.6519, -0.6055,  0.2631, -0.6609,  1.1417, -0.0193, -0.7428, -1.4321,\n",
       "         -0.0080,  0.4575,  0.8962,  0.0268,  0.1488, -0.7864,  0.4031,  0.8617],\n",
       "        [ 0.3572,  1.1703,  0.2762,  1.9486,  0.0347, -0.9270,  0.4420,  0.0789,\n",
       "          0.7242,  1.1438,  1.2067,  1.5952,  0.8898, -0.3228,  0.4987, -0.3865],\n",
       "        [ 0.1276,  2.2140,  1.5148, -0.0443,  0.9131, -0.6947,  0.2029,  1.3926,\n",
       "         -0.7305, -0.4706, -0.0121, -0.4266, -0.2352, -0.6012, -0.9594,  0.5300]],\n",
       "       requires_grad=True)"
      ]
     },
     "execution_count": null,
     "metadata": {},
     "output_type": "execute_result"
    }
   ],
   "source": [
    "embed.weight"
   ]
  },
  {
   "cell_type": "code",
   "execution_count": null,
   "id": "66e5a289",
   "metadata": {},
   "outputs": [
    {
     "data": {
      "text/plain": [
       "tensor([4, 3, 5, 1, 0, 2])"
      ]
     },
     "execution_count": null,
     "metadata": {},
     "output_type": "execute_result"
    }
   ],
   "source": [
    "sentence_int"
   ]
  },
  {
   "cell_type": "code",
   "execution_count": null,
   "id": "c0b1d112",
   "metadata": {},
   "outputs": [],
   "source": [
    "embedded_sentence = embed(sentence_int)"
   ]
  },
  {
   "cell_type": "markdown",
   "id": "da4dd8f9",
   "metadata": {},
   "source": [
    "## sdpa"
   ]
  },
  {
   "cell_type": "code",
   "execution_count": null,
   "id": "c462dd96",
   "metadata": {},
   "outputs": [
    {
     "data": {
      "text/plain": [
       "Parameter containing:\n",
       "tensor([[0.0373, 0.4159, 0.8324],\n",
       "        [0.7977, 0.4048, 0.0143],\n",
       "        [0.4707, 0.9528, 0.2652]], requires_grad=True)"
      ]
     },
     "execution_count": null,
     "metadata": {},
     "output_type": "execute_result"
    }
   ],
   "source": [
    "nn.Parameter(torch.rand(3,3))"
   ]
  },
  {
   "cell_type": "code",
   "execution_count": null,
   "id": "4ba136c2",
   "metadata": {},
   "outputs": [
    {
     "data": {
      "text/plain": [
       "Parameter containing:\n",
       "tensor([[ 0.5657,  0.5205, -0.0074],\n",
       "        [-0.4242, -0.3910, -0.0658],\n",
       "        [-0.2243, -0.1632,  0.2622]], requires_grad=True)"
      ]
     },
     "execution_count": null,
     "metadata": {},
     "output_type": "execute_result"
    }
   ],
   "source": [
    "nn.Linear(3,3).weight"
   ]
  },
  {
   "cell_type": "code",
   "execution_count": null,
   "id": "2dcf96f2",
   "metadata": {},
   "outputs": [],
   "source": [
    "dim_model = embedded_sentence.shape[1]\n",
    "\n",
    "d_q = 24\n",
    "d_k = 24\n",
    "d_v = 28"
   ]
  }
 ],
 "metadata": {
  "kernelspec": {
   "display_name": "python3",
   "language": "python",
   "name": "python3"
  }
 },
 "nbformat": 4,
 "nbformat_minor": 5
}
